{
 "cells": [
  {
   "cell_type": "code",
   "execution_count": 53,
   "id": "405174d0",
   "metadata": {},
   "outputs": [],
   "source": [
    "# --- dependencies and setup ---\n",
    "from bs4 import BeautifulSoup as bs\n",
    "import pandas as pd\n",
    "from splinter import Browser\n",
    "from webdriver_manager.chrome import ChromeDriverManager\n",
    "import time\n",
    "import requests"
   ]
  },
  {
   "cell_type": "code",
   "execution_count": 54,
   "id": "c4291fdd",
   "metadata": {},
   "outputs": [
    {
     "name": "stderr",
     "output_type": "stream",
     "text": [
      "\n",
      "\n",
      "====== WebDriver manager ======\n",
      "Current google-chrome version is 101.0.4951\n",
      "Get LATEST chromedriver version for 101.0.4951 google-chrome\n",
      "Trying to download new driver from https://chromedriver.storage.googleapis.com/101.0.4951.41/chromedriver_win32.zip\n",
      "Driver has been saved in cache [C:\\Users\\llong\\.wdm\\drivers\\chromedriver\\win32\\101.0.4951.41]\n"
     ]
    }
   ],
   "source": [
    "executable_path = {'executable_path': ChromeDriverManager().install()}\n",
    "browser = Browser('chrome', **executable_path, headless=False)\n",
    "time.sleep(1)"
   ]
  },
  {
   "cell_type": "code",
   "execution_count": 55,
   "id": "ba60ce33",
   "metadata": {},
   "outputs": [],
   "source": [
    "# Visit  news site\n",
    "url = \"https://redplanetscience.com/\"\n",
    "browser.visit(url)"
   ]
  },
  {
   "cell_type": "code",
   "execution_count": 56,
   "id": "fbb6c62c",
   "metadata": {},
   "outputs": [],
   "source": [
    "html = browser.html\n",
    "soup = bs(html, \"html.parser\")\n",
    "results = soup.find(\"div\")\n"
   ]
  },
  {
   "cell_type": "code",
   "execution_count": 57,
   "id": "640a674c",
   "metadata": {},
   "outputs": [],
   "source": [
    "latest_news = soup.find_all(\"div\", class_=\"content_title\")[0]"
   ]
  },
  {
   "cell_type": "code",
   "execution_count": 58,
   "id": "750ea704",
   "metadata": {},
   "outputs": [
    {
     "data": {
      "text/plain": [
       "'NASA to Broadcast Mars 2020 Perseverance Launch, Prelaunch Activities'"
      ]
     },
     "execution_count": 58,
     "metadata": {},
     "output_type": "execute_result"
    }
   ],
   "source": [
    "latest_news_title = latest_news.text\n",
    "latest_news_title"
   ]
  },
  {
   "cell_type": "code",
   "execution_count": 59,
   "id": "6f73220b",
   "metadata": {},
   "outputs": [],
   "source": [
    "paragraph = soup.find_all(\"div\", class_=\"article_teaser_body\")[0]"
   ]
  },
  {
   "cell_type": "code",
   "execution_count": 60,
   "id": "1427cc05",
   "metadata": {},
   "outputs": [
    {
     "data": {
      "text/plain": [
       "'Starting July 27, news activities will cover everything from mission engineering and science to returning samples from Mars to, of course, the launch itself.'"
      ]
     },
     "execution_count": 60,
     "metadata": {},
     "output_type": "execute_result"
    }
   ],
   "source": [
    "latest_news_paragraph = paragraph.text\n",
    "latest_news_paragraph"
   ]
  },
  {
   "cell_type": "code",
   "execution_count": 61,
   "id": "8976ed3f",
   "metadata": {},
   "outputs": [],
   "source": [
    "#Navigate Url to scrape\n",
    "Space_Images_Url = \"https://spaceimages-mars.com\"\n",
    "browser.visit(Space_Images_Url)\n",
    "time.sleep(1)\n",
    "\n",
    "# Scrape image into Soup\n",
    "html = browser.html\n",
    "soup = bs(html, \"html.parser\")\n",
    "results = soup.find(\"div\", class_ = \"list_text\")\n",
    "featured_image_url = \"https://spaceimages-mars.com/image/featured/mars1.jpg\"\n"
   ]
  },
  {
   "cell_type": "code",
   "execution_count": 62,
   "id": "75de8ba1",
   "metadata": {},
   "outputs": [
    {
     "data": {
      "text/html": [
       "<div>\n",
       "<style scoped>\n",
       "    .dataframe tbody tr th:only-of-type {\n",
       "        vertical-align: middle;\n",
       "    }\n",
       "\n",
       "    .dataframe tbody tr th {\n",
       "        vertical-align: top;\n",
       "    }\n",
       "\n",
       "    .dataframe thead th {\n",
       "        text-align: right;\n",
       "    }\n",
       "</style>\n",
       "<table border=\"1\" class=\"dataframe\">\n",
       "  <thead>\n",
       "    <tr style=\"text-align: right;\">\n",
       "      <th></th>\n",
       "      <th>Description</th>\n",
       "      <th>Mars Value</th>\n",
       "      <th>Earth Value</th>\n",
       "    </tr>\n",
       "  </thead>\n",
       "  <tbody>\n",
       "    <tr>\n",
       "      <th>0</th>\n",
       "      <td>Mars - Earth Comparison</td>\n",
       "      <td>Mars</td>\n",
       "      <td>Earth</td>\n",
       "    </tr>\n",
       "    <tr>\n",
       "      <th>1</th>\n",
       "      <td>Diameter:</td>\n",
       "      <td>6,779 km</td>\n",
       "      <td>12,742 km</td>\n",
       "    </tr>\n",
       "    <tr>\n",
       "      <th>2</th>\n",
       "      <td>Mass:</td>\n",
       "      <td>6.39 × 10^23 kg</td>\n",
       "      <td>5.97 × 10^24 kg</td>\n",
       "    </tr>\n",
       "    <tr>\n",
       "      <th>3</th>\n",
       "      <td>Moons:</td>\n",
       "      <td>2</td>\n",
       "      <td>1</td>\n",
       "    </tr>\n",
       "    <tr>\n",
       "      <th>4</th>\n",
       "      <td>Distance from Sun:</td>\n",
       "      <td>227,943,824 km</td>\n",
       "      <td>149,598,262 km</td>\n",
       "    </tr>\n",
       "    <tr>\n",
       "      <th>5</th>\n",
       "      <td>Length of Year:</td>\n",
       "      <td>687 Earth days</td>\n",
       "      <td>365.24 days</td>\n",
       "    </tr>\n",
       "    <tr>\n",
       "      <th>6</th>\n",
       "      <td>Temperature:</td>\n",
       "      <td>-87 to -5 °C</td>\n",
       "      <td>-88 to 58°C</td>\n",
       "    </tr>\n",
       "  </tbody>\n",
       "</table>\n",
       "</div>"
      ],
      "text/plain": [
       "               Description       Mars Value      Earth Value\n",
       "0  Mars - Earth Comparison             Mars            Earth\n",
       "1                Diameter:         6,779 km        12,742 km\n",
       "2                    Mass:  6.39 × 10^23 kg  5.97 × 10^24 kg\n",
       "3                   Moons:                2                1\n",
       "4       Distance from Sun:   227,943,824 km   149,598,262 km\n",
       "5          Length of Year:   687 Earth days      365.24 days\n",
       "6             Temperature:     -87 to -5 °C      -88 to 58°C"
      ]
     },
     "execution_count": 62,
     "metadata": {},
     "output_type": "execute_result"
    }
   ],
   "source": [
    "#Navigate Url to scrape\n",
    "Mars_Facts = \"https://galaxyfacts-mars.com\"\n",
    "browser.visit(Mars_Facts)\n",
    "time.sleep(1)\n",
    "\n",
    "# Scrape image into Soup\n",
    "\n",
    "Mars = pd.read_html(Mars_Facts)\n",
    "\n",
    "df = Mars[0]\n",
    "df.columns=[\"Description\", \"Mars Value\", \"Earth Value\"]\n",
    "df.to_html(\"marstable.html\",index = False)\n",
    "df\n"
   ]
  },
  {
   "cell_type": "code",
   "execution_count": 63,
   "id": "7d6660d1",
   "metadata": {},
   "outputs": [
    {
     "data": {
      "text/plain": [
       "[{'title': 'Cerberus Hemisphere Enhanced',\n",
       "  'img_url': 'https://marshemispheres.com/images/f5e372a36edfa389625da6d0cc25d905_cerberus_enhanced.tif_full.jpg'},\n",
       " {'title': 'Schiaparelli Hemisphere Enhanced',\n",
       "  'img_url': 'https://marshemispheres.com/images/3778f7b43bbbc89d6e3cfabb3613ba93_schiaparelli_enhanced.tif_full.jpg'},\n",
       " {'title': 'Syrtis Major Hemisphere Enhanced',\n",
       "  'img_url': 'https://marshemispheres.com/images/555e6403a6ddd7ba16ddb0e471cadcf7_syrtis_major_enhanced.tif_full.jpg'},\n",
       " {'title': 'Valles Marineris Hemisphere Enhanced',\n",
       "  'img_url': 'https://marshemispheres.com/images/b3c7c6c9138f57b4756be9b9c43e3a48_valles_marineris_enhanced.tif_full.jpg'}]"
      ]
     },
     "execution_count": 63,
     "metadata": {},
     "output_type": "execute_result"
    }
   ],
   "source": [
    "#Navigate to url for scraping\n",
    "base_url  = \"https://marshemispheres.com/\"\n",
    "browser.visit(base_url)\n",
    "#Container to hold  our loop iterations\n",
    "all_urls = []\n",
    "#Iterate through the 4 different links to get the images needed\n",
    "for x in range(4):\n",
    "    html = browser.html\n",
    "    soup = bs(html, \"html.parser\")\n",
    "    \n",
    "    title = soup.find_all(\"h3\")[x].get_text()\n",
    "    browser.find_by_tag(\"h3\")[x].click()\n",
    "    \n",
    "    html = browser.html\n",
    "    soup = bs(html, \"html.parser\")\n",
    "    \n",
    "    img_url = soup.find(\"img\", class_=\"wide-image\")[\"src\"]\n",
    "    all_urls.append({\n",
    "        \"title\":title,\n",
    "        \"img_url\": base_url+img_url\n",
    "    })\n",
    "    browser.back()\n",
    "all_urls\n"
   ]
  },
  {
   "cell_type": "code",
   "execution_count": null,
   "id": "43d7f192",
   "metadata": {},
   "outputs": [],
   "source": []
  }
 ],
 "metadata": {
  "kernelspec": {
   "display_name": "Python 3 (ipykernel)",
   "language": "python",
   "name": "python3"
  },
  "language_info": {
   "codemirror_mode": {
    "name": "ipython",
    "version": 3
   },
   "file_extension": ".py",
   "mimetype": "text/x-python",
   "name": "python",
   "nbconvert_exporter": "python",
   "pygments_lexer": "ipython3",
   "version": "3.9.7"
  }
 },
 "nbformat": 4,
 "nbformat_minor": 5
}
